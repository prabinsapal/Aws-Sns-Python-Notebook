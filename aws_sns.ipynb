{
 "cells": [
  {
   "cell_type": "code",
   "execution_count": null,
   "metadata": {},
   "outputs": [],
   "source": [
    "import boto3\n",
    "import json\n",
    "import requests\n",
    "from botocore.exceptions import ClientError \n",
    "from typing import Literal"
   ]
  },
  {
   "cell_type": "markdown",
   "metadata": {},
   "source": [
    "## CONFIGURE BOTO3"
   ]
  },
  {
   "cell_type": "code",
   "execution_count": null,
   "metadata": {},
   "outputs": [],
   "source": [
    "def configure_boto3(aws_access_key_id, aws_secret_access_key, aws_region):\n",
    "    \"\"\"\n",
    "    Configure Boto3 with provided AWS Credentials and region\n",
    "    \"\"\"\n",
    "    boto3.setup_default_session(\n",
    "        aws_access_key_id=aws_access_key_id,\n",
    "        aws_secret_access_key=aws_secret_access_key,\n",
    "        region_name=aws_region\n",
    "    )"
   ]
  },
  {
   "cell_type": "code",
   "execution_count": null,
   "metadata": {},
   "outputs": [],
   "source": [
    "aws_access_key_id = 'your-aws-access-key-here'\n",
    "aws_secret_access_key = 'your-aws-secret-here'\n",
    "aws_region = 'your-aws-region-here'\n",
    "\n",
    "#Connect to AWS using Boto3\n",
    "configure_boto3(aws_access_key_id, aws_secret_access_key, aws_region)"
   ]
  },
  {
   "cell_type": "markdown",
   "metadata": {},
   "source": [
    "## CREATE SNS CLIENT"
   ]
  },
  {
   "cell_type": "code",
   "execution_count": null,
   "metadata": {},
   "outputs": [],
   "source": [
    "sns_client = boto3.client('sns')"
   ]
  },
  {
   "cell_type": "markdown",
   "metadata": {},
   "source": [
    "## CREATE TOPIC"
   ]
  },
  {
   "cell_type": "code",
   "execution_count": null,
   "metadata": {},
   "outputs": [],
   "source": [
    "def create_topic(topic_name):\n",
    "    try:\n",
    "        # All commented code are optional. Use based on your requirement\n",
    "        response = sns_client.create_topic(\n",
    "                        Name=topic_name,\n",
    "                        # Attributes={\n",
    "                        #     'string': 'string'\n",
    "                        # },\n",
    "                        # Tags=[\n",
    "                        #     {\n",
    "                        #         'Key': 'string',\n",
    "                        #         'Value': 'string'\n",
    "                        #     },\n",
    "                        # ],\n",
    "                        # DataProtectionPolicy='string'\n",
    "                    )\n",
    "        return response\n",
    "    except ClientError as ce:\n",
    "        print(f\"Create Topic error: {ce}\")"
   ]
  },
  {
   "cell_type": "code",
   "execution_count": null,
   "metadata": {},
   "outputs": [],
   "source": [
    "create_topic(\"my-first-topic\")\n",
    "\n",
    "# Response\n",
    "# {\n",
    "#     'TopicArn': 'string'\n",
    "# }\n",
    "# TopicArn (string) - The Amazon Resource Name (ARN) assigned to the created topic."
   ]
  },
  {
   "cell_type": "markdown",
   "metadata": {},
   "source": [
    "## DELETE TOPIC"
   ]
  },
  {
   "cell_type": "code",
   "execution_count": null,
   "metadata": {},
   "outputs": [],
   "source": [
    "def delete_topic(topic_arn):\n",
    "    try:\n",
    "        response = sns_client.delete_topic(\n",
    "                        TopicArn=topic_arn\n",
    "                    )\n",
    "    except ClientError as ce:\n",
    "        print(f\"Delete Topic error: {ce}\")"
   ]
  },
  {
   "cell_type": "code",
   "execution_count": null,
   "metadata": {},
   "outputs": [],
   "source": [
    "delete_topic(\"topicArn\")\n",
    "\n",
    "# Response\n",
    "# None"
   ]
  },
  {
   "cell_type": "markdown",
   "metadata": {},
   "source": [
    "## SUBSCRIBE\n",
    "Subscribes an endpoint to an Amazon SNS topic."
   ]
  },
  {
   "cell_type": "code",
   "execution_count": null,
   "metadata": {},
   "outputs": [],
   "source": [
    "protocol_list = ['http', 'https', 'email', 'sms', 'sqs', 'application', 'lambda', 'firehose']\n",
    "def subscribe_to_topic(topic_arn: str, protocol: str, endpoint: str):\n",
    "    try:\n",
    "        if protocol not in protocol_list:\n",
    "            raise ValueError(f\"Invalid protocol: '{protocol}'. Must be one of {protocol_list}.\")\n",
    "        response = sns_client.subscribe(\n",
    "                        TopicArn=topic_arn,\n",
    "                        Protocol=protocol,\n",
    "                        Endpoint=endpoint\n",
    "                    )\n",
    "        return response\n",
    "    except ClientError as ce:\n",
    "        print(f\"Subscribe Error: {ce}\")"
   ]
  },
  {
   "cell_type": "code",
   "execution_count": null,
   "metadata": {},
   "outputs": [],
   "source": [
    "subscribe_to_topic(\"topicArn\", 'https', 'https://your-end-point.com/path')\n",
    "\n",
    "#Response\n",
    "# {\n",
    "#     'SubscriptionArn': 'string'\n",
    "# }"
   ]
  },
  {
   "cell_type": "markdown",
   "metadata": {},
   "source": [
    "After you subscribe to topic you will get confirmation url in the endpoint you provided. \n",
    "Make sure to confirm and only after the confirmation you are able to sending message to \n",
    "that subscription"
   ]
  },
  {
   "cell_type": "code",
   "execution_count": null,
   "metadata": {},
   "outputs": [],
   "source": []
  }
 ],
 "metadata": {
  "language_info": {
   "name": "python"
  }
 },
 "nbformat": 4,
 "nbformat_minor": 2
}
